{
 "cells": [
  {
   "cell_type": "code",
   "execution_count": 1,
   "metadata": {},
   "outputs": [],
   "source": [
    "from __future__ import division\n",
    "import os, time, scipy.io\n",
    "import tensorflow as tf\n",
    "import tensorflow.contrib.slim as slim\n",
    "import numpy as np\n",
    "import rawpy\n",
    "import glob\n",
    "from PIL import Image"
   ]
  },
  {
   "cell_type": "code",
   "execution_count": 2,
   "metadata": {},
   "outputs": [],
   "source": [
    "checkpoint_dir = './checkpoint/surgery/'\n",
    "ckpt = tf.train.get_checkpoint_state(checkpoint_dir)"
   ]
  },
  {
   "cell_type": "code",
   "execution_count": 3,
   "metadata": {},
   "outputs": [
    {
     "data": {
      "text/plain": [
       "model_checkpoint_path: \"./checkpoint/surgery/my_test_model\"\n",
       "all_model_checkpoint_paths: \"./checkpoint/surgery/my_test_model\""
      ]
     },
     "execution_count": 3,
     "metadata": {},
     "output_type": "execute_result"
    }
   ],
   "source": [
    "ckpt"
   ]
  },
  {
   "cell_type": "code",
   "execution_count": 4,
   "metadata": {},
   "outputs": [],
   "source": [
    "def lrelu(x):\n",
    "    return tf.maximum(x * 0.2, x)\n",
    "\n",
    "\n",
    "def upsample_and_concat(x1, x2, output_channels, in_channels):\n",
    "    pool_size = 2\n",
    "    deconv_filter = tf.Variable(tf.truncated_normal([pool_size, pool_size, output_channels, in_channels], stddev=0.02))\n",
    "    deconv = tf.nn.conv2d_transpose(x1, deconv_filter, tf.shape(x2), strides=[1, pool_size, pool_size, 1])\n",
    "\n",
    "    deconv_output = tf.concat([deconv, x2], 3)\n",
    "    deconv_output.set_shape([None, None, None, output_channels * 2])\n",
    "\n",
    "    return deconv_output\n",
    "\n",
    "\n",
    "def network(input):\n",
    "    conv1 = slim.conv2d(input, 32, [3, 3], rate=1, activation_fn=lrelu, scope='g_conv1_1')\n",
    "    conv1 = slim.conv2d(conv1, 32, [3, 3], rate=1, activation_fn=lrelu, scope='g_conv1_2')\n",
    "    pool1 = slim.max_pool2d(conv1, [2, 2], padding='SAME')\n",
    "\n",
    "    conv2 = slim.conv2d(pool1, 64, [3, 3], rate=1, activation_fn=lrelu, scope='g_conv2_1')\n",
    "    conv2 = slim.conv2d(conv2, 64, [3, 3], rate=1, activation_fn=lrelu, scope='g_conv2_2')\n",
    "    pool2 = slim.max_pool2d(conv2, [2, 2], padding='SAME')\n",
    "\n",
    "    conv3 = slim.conv2d(pool2, 128, [3, 3], rate=1, activation_fn=lrelu, scope='g_conv3_1')\n",
    "    conv3 = slim.conv2d(conv3, 128, [3, 3], rate=1, activation_fn=lrelu, scope='g_conv3_2')\n",
    "    pool3 = slim.max_pool2d(conv3, [2, 2], padding='SAME')\n",
    "\n",
    "    conv4 = slim.conv2d(pool3, 256, [3, 3], rate=1, activation_fn=lrelu, scope='g_conv4_1')\n",
    "    conv4 = slim.conv2d(conv4, 256, [3, 3], rate=1, activation_fn=lrelu, scope='g_conv4_2')\n",
    "    pool4 = slim.max_pool2d(conv4, [2, 2], padding='SAME')\n",
    "\n",
    "    conv5 = slim.conv2d(pool4, 512, [3, 3], rate=1, activation_fn=lrelu, scope='g_conv5_1')\n",
    "    conv5 = slim.conv2d(conv5, 512, [3, 3], rate=1, activation_fn=lrelu, scope='g_conv5_2')\n",
    "\n",
    "    up6 = upsample_and_concat(conv5, conv4, 256, 512)\n",
    "    conv6 = slim.conv2d(up6, 256, [3, 3], rate=1, activation_fn=lrelu, scope='g_conv6_1')\n",
    "    conv6 = slim.conv2d(conv6, 256, [3, 3], rate=1, activation_fn=lrelu, scope='g_conv6_2')\n",
    "\n",
    "    up7 = upsample_and_concat(conv6, conv3, 128, 256)\n",
    "    conv7 = slim.conv2d(up7, 128, [3, 3], rate=1, activation_fn=lrelu, scope='g_conv7_1')\n",
    "    conv7 = slim.conv2d(conv7, 128, [3, 3], rate=1, activation_fn=lrelu, scope='g_conv7_2')\n",
    "\n",
    "    up8 = upsample_and_concat(conv7, conv2, 64, 128)\n",
    "    conv8 = slim.conv2d(up8, 64, [3, 3], rate=1, activation_fn=lrelu, scope='g_conv8_1')\n",
    "    conv8 = slim.conv2d(conv8, 64, [3, 3], rate=1, activation_fn=lrelu, scope='g_conv8_2')\n",
    "\n",
    "    up9 = upsample_and_concat(conv8, conv1, 32, 64)\n",
    "    conv9 = slim.conv2d(up9, 32, [3, 3], rate=1, activation_fn=lrelu, scope='g_conv9_1')\n",
    "    conv9 = slim.conv2d(conv9, 32, [3, 3], rate=1, activation_fn=lrelu, scope='g_conv9_2')\n",
    "\n",
    "    conv10 = slim.conv2d(conv9, 12, [1, 1], rate=1, activation_fn=None, scope='g_conv10')\n",
    "    out = tf.depth_to_space(conv10, 2)\n",
    "    return out\n"
   ]
  },
  {
   "cell_type": "code",
   "execution_count": 5,
   "metadata": {},
   "outputs": [
    {
     "name": "stdout",
     "output_type": "stream",
     "text": [
      "WARNING:tensorflow:From /home/harshith/anaconda3/lib/python3.7/site-packages/tensorflow/python/framework/op_def_library.py:263: colocate_with (from tensorflow.python.framework.ops) is deprecated and will be removed in a future version.\n",
      "Instructions for updating:\n",
      "Colocations handled automatically by placer.\n"
     ]
    }
   ],
   "source": [
    "sess = tf.Session()\n",
    "in_image = tf.placeholder(tf.float32, [None, None, None, 4])\n",
    "gt_image = tf.placeholder(tf.float32, [None, None, None, 3])\n",
    "out_image = network(in_image)\n",
    "\n",
    "G_loss = tf.reduce_mean(tf.abs(out_image - gt_image))\n",
    "\n",
    "t_vars = tf.trainable_variables()\n",
    "lr = tf.placeholder(tf.float32)\n",
    "G_opt = tf.train.AdamOptimizer(learning_rate=lr).minimize(G_loss)\n",
    "\n"
   ]
  },
  {
   "cell_type": "code",
   "execution_count": 6,
   "metadata": {},
   "outputs": [
    {
     "data": {
      "text/plain": [
       "[<tf.Variable 'g_conv1_1/weights:0' shape=(3, 3, 4, 32) dtype=float32_ref>,\n",
       " <tf.Variable 'g_conv1_1/biases:0' shape=(32,) dtype=float32_ref>,\n",
       " <tf.Variable 'g_conv1_2/weights:0' shape=(3, 3, 32, 32) dtype=float32_ref>,\n",
       " <tf.Variable 'g_conv1_2/biases:0' shape=(32,) dtype=float32_ref>,\n",
       " <tf.Variable 'g_conv2_1/weights:0' shape=(3, 3, 32, 64) dtype=float32_ref>,\n",
       " <tf.Variable 'g_conv2_1/biases:0' shape=(64,) dtype=float32_ref>,\n",
       " <tf.Variable 'g_conv2_2/weights:0' shape=(3, 3, 64, 64) dtype=float32_ref>,\n",
       " <tf.Variable 'g_conv2_2/biases:0' shape=(64,) dtype=float32_ref>,\n",
       " <tf.Variable 'g_conv3_1/weights:0' shape=(3, 3, 64, 128) dtype=float32_ref>,\n",
       " <tf.Variable 'g_conv3_1/biases:0' shape=(128,) dtype=float32_ref>,\n",
       " <tf.Variable 'g_conv3_2/weights:0' shape=(3, 3, 128, 128) dtype=float32_ref>,\n",
       " <tf.Variable 'g_conv3_2/biases:0' shape=(128,) dtype=float32_ref>,\n",
       " <tf.Variable 'g_conv4_1/weights:0' shape=(3, 3, 128, 256) dtype=float32_ref>,\n",
       " <tf.Variable 'g_conv4_1/biases:0' shape=(256,) dtype=float32_ref>,\n",
       " <tf.Variable 'g_conv4_2/weights:0' shape=(3, 3, 256, 256) dtype=float32_ref>,\n",
       " <tf.Variable 'g_conv4_2/biases:0' shape=(256,) dtype=float32_ref>,\n",
       " <tf.Variable 'g_conv5_1/weights:0' shape=(3, 3, 256, 512) dtype=float32_ref>,\n",
       " <tf.Variable 'g_conv5_1/biases:0' shape=(512,) dtype=float32_ref>,\n",
       " <tf.Variable 'g_conv5_2/weights:0' shape=(3, 3, 512, 512) dtype=float32_ref>,\n",
       " <tf.Variable 'g_conv5_2/biases:0' shape=(512,) dtype=float32_ref>,\n",
       " <tf.Variable 'Variable:0' shape=(2, 2, 256, 512) dtype=float32_ref>,\n",
       " <tf.Variable 'g_conv6_1/weights:0' shape=(3, 3, 512, 256) dtype=float32_ref>,\n",
       " <tf.Variable 'g_conv6_1/biases:0' shape=(256,) dtype=float32_ref>,\n",
       " <tf.Variable 'g_conv6_2/weights:0' shape=(3, 3, 256, 256) dtype=float32_ref>,\n",
       " <tf.Variable 'g_conv6_2/biases:0' shape=(256,) dtype=float32_ref>,\n",
       " <tf.Variable 'Variable_1:0' shape=(2, 2, 128, 256) dtype=float32_ref>,\n",
       " <tf.Variable 'g_conv7_1/weights:0' shape=(3, 3, 256, 128) dtype=float32_ref>,\n",
       " <tf.Variable 'g_conv7_1/biases:0' shape=(128,) dtype=float32_ref>,\n",
       " <tf.Variable 'g_conv7_2/weights:0' shape=(3, 3, 128, 128) dtype=float32_ref>,\n",
       " <tf.Variable 'g_conv7_2/biases:0' shape=(128,) dtype=float32_ref>,\n",
       " <tf.Variable 'Variable_2:0' shape=(2, 2, 64, 128) dtype=float32_ref>,\n",
       " <tf.Variable 'g_conv8_1/weights:0' shape=(3, 3, 128, 64) dtype=float32_ref>,\n",
       " <tf.Variable 'g_conv8_1/biases:0' shape=(64,) dtype=float32_ref>,\n",
       " <tf.Variable 'g_conv8_2/weights:0' shape=(3, 3, 64, 64) dtype=float32_ref>,\n",
       " <tf.Variable 'g_conv8_2/biases:0' shape=(64,) dtype=float32_ref>,\n",
       " <tf.Variable 'Variable_3:0' shape=(2, 2, 32, 64) dtype=float32_ref>,\n",
       " <tf.Variable 'g_conv9_1/weights:0' shape=(3, 3, 64, 32) dtype=float32_ref>,\n",
       " <tf.Variable 'g_conv9_1/biases:0' shape=(32,) dtype=float32_ref>,\n",
       " <tf.Variable 'g_conv9_2/weights:0' shape=(3, 3, 32, 32) dtype=float32_ref>,\n",
       " <tf.Variable 'g_conv9_2/biases:0' shape=(32,) dtype=float32_ref>,\n",
       " <tf.Variable 'g_conv10/weights:0' shape=(1, 1, 32, 12) dtype=float32_ref>,\n",
       " <tf.Variable 'g_conv10/biases:0' shape=(12,) dtype=float32_ref>,\n",
       " <tf.Variable 'beta1_power:0' shape=() dtype=float32_ref>,\n",
       " <tf.Variable 'beta2_power:0' shape=() dtype=float32_ref>,\n",
       " <tf.Variable 'g_conv1_1/weights/Adam:0' shape=(3, 3, 4, 32) dtype=float32_ref>,\n",
       " <tf.Variable 'g_conv1_1/weights/Adam_1:0' shape=(3, 3, 4, 32) dtype=float32_ref>,\n",
       " <tf.Variable 'g_conv1_1/biases/Adam:0' shape=(32,) dtype=float32_ref>,\n",
       " <tf.Variable 'g_conv1_1/biases/Adam_1:0' shape=(32,) dtype=float32_ref>,\n",
       " <tf.Variable 'g_conv1_2/weights/Adam:0' shape=(3, 3, 32, 32) dtype=float32_ref>,\n",
       " <tf.Variable 'g_conv1_2/weights/Adam_1:0' shape=(3, 3, 32, 32) dtype=float32_ref>,\n",
       " <tf.Variable 'g_conv1_2/biases/Adam:0' shape=(32,) dtype=float32_ref>,\n",
       " <tf.Variable 'g_conv1_2/biases/Adam_1:0' shape=(32,) dtype=float32_ref>,\n",
       " <tf.Variable 'g_conv2_1/weights/Adam:0' shape=(3, 3, 32, 64) dtype=float32_ref>,\n",
       " <tf.Variable 'g_conv2_1/weights/Adam_1:0' shape=(3, 3, 32, 64) dtype=float32_ref>,\n",
       " <tf.Variable 'g_conv2_1/biases/Adam:0' shape=(64,) dtype=float32_ref>,\n",
       " <tf.Variable 'g_conv2_1/biases/Adam_1:0' shape=(64,) dtype=float32_ref>,\n",
       " <tf.Variable 'g_conv2_2/weights/Adam:0' shape=(3, 3, 64, 64) dtype=float32_ref>,\n",
       " <tf.Variable 'g_conv2_2/weights/Adam_1:0' shape=(3, 3, 64, 64) dtype=float32_ref>,\n",
       " <tf.Variable 'g_conv2_2/biases/Adam:0' shape=(64,) dtype=float32_ref>,\n",
       " <tf.Variable 'g_conv2_2/biases/Adam_1:0' shape=(64,) dtype=float32_ref>,\n",
       " <tf.Variable 'g_conv3_1/weights/Adam:0' shape=(3, 3, 64, 128) dtype=float32_ref>,\n",
       " <tf.Variable 'g_conv3_1/weights/Adam_1:0' shape=(3, 3, 64, 128) dtype=float32_ref>,\n",
       " <tf.Variable 'g_conv3_1/biases/Adam:0' shape=(128,) dtype=float32_ref>,\n",
       " <tf.Variable 'g_conv3_1/biases/Adam_1:0' shape=(128,) dtype=float32_ref>,\n",
       " <tf.Variable 'g_conv3_2/weights/Adam:0' shape=(3, 3, 128, 128) dtype=float32_ref>,\n",
       " <tf.Variable 'g_conv3_2/weights/Adam_1:0' shape=(3, 3, 128, 128) dtype=float32_ref>,\n",
       " <tf.Variable 'g_conv3_2/biases/Adam:0' shape=(128,) dtype=float32_ref>,\n",
       " <tf.Variable 'g_conv3_2/biases/Adam_1:0' shape=(128,) dtype=float32_ref>,\n",
       " <tf.Variable 'g_conv4_1/weights/Adam:0' shape=(3, 3, 128, 256) dtype=float32_ref>,\n",
       " <tf.Variable 'g_conv4_1/weights/Adam_1:0' shape=(3, 3, 128, 256) dtype=float32_ref>,\n",
       " <tf.Variable 'g_conv4_1/biases/Adam:0' shape=(256,) dtype=float32_ref>,\n",
       " <tf.Variable 'g_conv4_1/biases/Adam_1:0' shape=(256,) dtype=float32_ref>,\n",
       " <tf.Variable 'g_conv4_2/weights/Adam:0' shape=(3, 3, 256, 256) dtype=float32_ref>,\n",
       " <tf.Variable 'g_conv4_2/weights/Adam_1:0' shape=(3, 3, 256, 256) dtype=float32_ref>,\n",
       " <tf.Variable 'g_conv4_2/biases/Adam:0' shape=(256,) dtype=float32_ref>,\n",
       " <tf.Variable 'g_conv4_2/biases/Adam_1:0' shape=(256,) dtype=float32_ref>,\n",
       " <tf.Variable 'g_conv5_1/weights/Adam:0' shape=(3, 3, 256, 512) dtype=float32_ref>,\n",
       " <tf.Variable 'g_conv5_1/weights/Adam_1:0' shape=(3, 3, 256, 512) dtype=float32_ref>,\n",
       " <tf.Variable 'g_conv5_1/biases/Adam:0' shape=(512,) dtype=float32_ref>,\n",
       " <tf.Variable 'g_conv5_1/biases/Adam_1:0' shape=(512,) dtype=float32_ref>,\n",
       " <tf.Variable 'g_conv5_2/weights/Adam:0' shape=(3, 3, 512, 512) dtype=float32_ref>,\n",
       " <tf.Variable 'g_conv5_2/weights/Adam_1:0' shape=(3, 3, 512, 512) dtype=float32_ref>,\n",
       " <tf.Variable 'g_conv5_2/biases/Adam:0' shape=(512,) dtype=float32_ref>,\n",
       " <tf.Variable 'g_conv5_2/biases/Adam_1:0' shape=(512,) dtype=float32_ref>,\n",
       " <tf.Variable 'Variable/Adam:0' shape=(2, 2, 256, 512) dtype=float32_ref>,\n",
       " <tf.Variable 'Variable/Adam_1:0' shape=(2, 2, 256, 512) dtype=float32_ref>,\n",
       " <tf.Variable 'g_conv6_1/weights/Adam:0' shape=(3, 3, 512, 256) dtype=float32_ref>,\n",
       " <tf.Variable 'g_conv6_1/weights/Adam_1:0' shape=(3, 3, 512, 256) dtype=float32_ref>,\n",
       " <tf.Variable 'g_conv6_1/biases/Adam:0' shape=(256,) dtype=float32_ref>,\n",
       " <tf.Variable 'g_conv6_1/biases/Adam_1:0' shape=(256,) dtype=float32_ref>,\n",
       " <tf.Variable 'g_conv6_2/weights/Adam:0' shape=(3, 3, 256, 256) dtype=float32_ref>,\n",
       " <tf.Variable 'g_conv6_2/weights/Adam_1:0' shape=(3, 3, 256, 256) dtype=float32_ref>,\n",
       " <tf.Variable 'g_conv6_2/biases/Adam:0' shape=(256,) dtype=float32_ref>,\n",
       " <tf.Variable 'g_conv6_2/biases/Adam_1:0' shape=(256,) dtype=float32_ref>,\n",
       " <tf.Variable 'Variable_1/Adam:0' shape=(2, 2, 128, 256) dtype=float32_ref>,\n",
       " <tf.Variable 'Variable_1/Adam_1:0' shape=(2, 2, 128, 256) dtype=float32_ref>,\n",
       " <tf.Variable 'g_conv7_1/weights/Adam:0' shape=(3, 3, 256, 128) dtype=float32_ref>,\n",
       " <tf.Variable 'g_conv7_1/weights/Adam_1:0' shape=(3, 3, 256, 128) dtype=float32_ref>,\n",
       " <tf.Variable 'g_conv7_1/biases/Adam:0' shape=(128,) dtype=float32_ref>,\n",
       " <tf.Variable 'g_conv7_1/biases/Adam_1:0' shape=(128,) dtype=float32_ref>,\n",
       " <tf.Variable 'g_conv7_2/weights/Adam:0' shape=(3, 3, 128, 128) dtype=float32_ref>,\n",
       " <tf.Variable 'g_conv7_2/weights/Adam_1:0' shape=(3, 3, 128, 128) dtype=float32_ref>,\n",
       " <tf.Variable 'g_conv7_2/biases/Adam:0' shape=(128,) dtype=float32_ref>,\n",
       " <tf.Variable 'g_conv7_2/biases/Adam_1:0' shape=(128,) dtype=float32_ref>,\n",
       " <tf.Variable 'Variable_2/Adam:0' shape=(2, 2, 64, 128) dtype=float32_ref>,\n",
       " <tf.Variable 'Variable_2/Adam_1:0' shape=(2, 2, 64, 128) dtype=float32_ref>,\n",
       " <tf.Variable 'g_conv8_1/weights/Adam:0' shape=(3, 3, 128, 64) dtype=float32_ref>,\n",
       " <tf.Variable 'g_conv8_1/weights/Adam_1:0' shape=(3, 3, 128, 64) dtype=float32_ref>,\n",
       " <tf.Variable 'g_conv8_1/biases/Adam:0' shape=(64,) dtype=float32_ref>,\n",
       " <tf.Variable 'g_conv8_1/biases/Adam_1:0' shape=(64,) dtype=float32_ref>,\n",
       " <tf.Variable 'g_conv8_2/weights/Adam:0' shape=(3, 3, 64, 64) dtype=float32_ref>,\n",
       " <tf.Variable 'g_conv8_2/weights/Adam_1:0' shape=(3, 3, 64, 64) dtype=float32_ref>,\n",
       " <tf.Variable 'g_conv8_2/biases/Adam:0' shape=(64,) dtype=float32_ref>,\n",
       " <tf.Variable 'g_conv8_2/biases/Adam_1:0' shape=(64,) dtype=float32_ref>,\n",
       " <tf.Variable 'Variable_3/Adam:0' shape=(2, 2, 32, 64) dtype=float32_ref>,\n",
       " <tf.Variable 'Variable_3/Adam_1:0' shape=(2, 2, 32, 64) dtype=float32_ref>,\n",
       " <tf.Variable 'g_conv9_1/weights/Adam:0' shape=(3, 3, 64, 32) dtype=float32_ref>,\n",
       " <tf.Variable 'g_conv9_1/weights/Adam_1:0' shape=(3, 3, 64, 32) dtype=float32_ref>,\n",
       " <tf.Variable 'g_conv9_1/biases/Adam:0' shape=(32,) dtype=float32_ref>,\n",
       " <tf.Variable 'g_conv9_1/biases/Adam_1:0' shape=(32,) dtype=float32_ref>,\n",
       " <tf.Variable 'g_conv9_2/weights/Adam:0' shape=(3, 3, 32, 32) dtype=float32_ref>,\n",
       " <tf.Variable 'g_conv9_2/weights/Adam_1:0' shape=(3, 3, 32, 32) dtype=float32_ref>,\n",
       " <tf.Variable 'g_conv9_2/biases/Adam:0' shape=(32,) dtype=float32_ref>,\n",
       " <tf.Variable 'g_conv9_2/biases/Adam_1:0' shape=(32,) dtype=float32_ref>,\n",
       " <tf.Variable 'g_conv10/weights/Adam:0' shape=(1, 1, 32, 12) dtype=float32_ref>,\n",
       " <tf.Variable 'g_conv10/weights/Adam_1:0' shape=(1, 1, 32, 12) dtype=float32_ref>,\n",
       " <tf.Variable 'g_conv10/biases/Adam:0' shape=(12,) dtype=float32_ref>,\n",
       " <tf.Variable 'g_conv10/biases/Adam_1:0' shape=(12,) dtype=float32_ref>]"
      ]
     },
     "execution_count": 6,
     "metadata": {},
     "output_type": "execute_result"
    }
   ],
   "source": [
    "sess.run(tf.global_variables_initializer())\n",
    "all_variables = tf.get_collection_ref(tf.GraphKeys.GLOBAL_VARIABLES)\n",
    "all_variables"
   ]
  },
  {
   "cell_type": "code",
   "execution_count": 13,
   "metadata": {},
   "outputs": [
    {
     "data": {
      "text/plain": [
       "42"
      ]
     },
     "execution_count": 13,
     "metadata": {},
     "output_type": "execute_result"
    }
   ],
   "source": [
    "var_list=[v for v in all_variables if \"Adam\" not in v.name and \"power\" not in v.name]\n",
    "var_list\n",
    "# temp_saver = tf.train.Saver(var_list=var_list)\n",
    "len(var_list)"
   ]
  },
  {
   "cell_type": "code",
   "execution_count": 8,
   "metadata": {},
   "outputs": [],
   "source": [
    "saver = tf.train.Saver()"
   ]
  },
  {
   "cell_type": "code",
   "execution_count": 9,
   "metadata": {},
   "outputs": [
    {
     "name": "stdout",
     "output_type": "stream",
     "text": [
      "loaded ./checkpoint/surgery/my_test_model\n",
      "WARNING:tensorflow:From /home/harshith/anaconda3/lib/python3.7/site-packages/tensorflow/python/training/saver.py:1266: checkpoint_exists (from tensorflow.python.training.checkpoint_management) is deprecated and will be removed in a future version.\n",
      "Instructions for updating:\n",
      "Use standard file APIs to check for files with this prefix.\n",
      "INFO:tensorflow:Restoring parameters from ./checkpoint/surgery/my_test_model\n"
     ]
    }
   ],
   "source": [
    "\n",
    "\n",
    "ckpt = tf.train.get_checkpoint_state(checkpoint_dir)\n",
    "if ckpt:\n",
    "    print('loaded ' + ckpt.model_checkpoint_path)\n",
    "    saver.restore(sess, ckpt.model_checkpoint_path)\n"
   ]
  },
  {
   "cell_type": "code",
   "execution_count": 10,
   "metadata": {},
   "outputs": [],
   "source": [
    "uninitialized_vars = []\n",
    "for var in tf.global_variables():\n",
    "    try:\n",
    "        sess.run(var)\n",
    "    except tf.errors.FailedPreconditionError:\n",
    "        uninitialized_vars.append(var)"
   ]
  },
  {
   "cell_type": "code",
   "execution_count": 11,
   "metadata": {},
   "outputs": [
    {
     "data": {
      "text/plain": [
       "[]"
      ]
     },
     "execution_count": 11,
     "metadata": {},
     "output_type": "execute_result"
    }
   ],
   "source": [
    "uninitialized_vars\n",
    "# saver = tf.train.Saver()"
   ]
  },
  {
   "cell_type": "code",
   "execution_count": 12,
   "metadata": {},
   "outputs": [],
   "source": [
    "# saver.save(sess, './checkpoint/surgery/my_test_model')\n"
   ]
  },
  {
   "cell_type": "code",
   "execution_count": null,
   "metadata": {},
   "outputs": [],
   "source": []
  }
 ],
 "metadata": {
  "kernelspec": {
   "display_name": "Python 3",
   "language": "python",
   "name": "python3"
  },
  "language_info": {
   "codemirror_mode": {
    "name": "ipython",
    "version": 3
   },
   "file_extension": ".py",
   "mimetype": "text/x-python",
   "name": "python",
   "nbconvert_exporter": "python",
   "pygments_lexer": "ipython3",
   "version": "3.7.3"
  }
 },
 "nbformat": 4,
 "nbformat_minor": 2
}
